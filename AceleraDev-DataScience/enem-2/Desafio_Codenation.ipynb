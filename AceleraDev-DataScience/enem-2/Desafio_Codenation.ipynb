{
  "nbformat": 4,
  "nbformat_minor": 0,
  "metadata": {
    "colab": {
      "name": "Desafio_Codenation.ipynb",
      "provenance": [],
      "collapsed_sections": [],
      "toc_visible": true
    },
    "kernelspec": {
      "name": "python3",
      "display_name": "Python 3"
    }
  },
  "cells": [
    {
      "cell_type": "markdown",
      "metadata": {
        "id": "nCAAlDgETxme",
        "colab_type": "text"
      },
      "source": [
        "# **Bibliotecas**"
      ]
    },
    {
      "cell_type": "code",
      "metadata": {
        "id": "JFUzeLrlk0nY",
        "colab_type": "code",
        "outputId": "404a6467-59da-4973-e1d6-fdb0f2708453",
        "colab": {
          "base_uri": "https://localhost:8080/",
          "height": 34
        }
      },
      "source": [
        "# -*- coding: utf-8 -*-\n",
        "\"\"\"\n",
        "Created on Thu Apr  2 \n",
        "@author: Priscila Brito\n",
        "\"\"\""
      ],
      "execution_count": 1,
      "outputs": [
        {
          "output_type": "execute_result",
          "data": {
            "text/plain": [
              "'\\nCreated on Thu Apr  2 \\n@author: Priscila Brito\\n'"
            ]
          },
          "metadata": {
            "tags": []
          },
          "execution_count": 1
        }
      ]
    },
    {
      "cell_type": "code",
      "metadata": {
        "id": "eyKJYZP7i3q1",
        "colab_type": "code",
        "colab": {
          "base_uri": "https://localhost:8080/",
          "height": 72
        },
        "outputId": "0c3a42a0-bc09-430b-a57f-2ac1827ea982"
      },
      "source": [
        "#-- Libraries\n",
        "import pandas as pd \n",
        "import numpy as no \n",
        "import matplotlib.pyplot as plt \n",
        "import seaborn as sns"
      ],
      "execution_count": 2,
      "outputs": [
        {
          "output_type": "stream",
          "text": [
            "/usr/local/lib/python3.6/dist-packages/statsmodels/tools/_testing.py:19: FutureWarning: pandas.util.testing is deprecated. Use the functions in the public API at pandas.testing instead.\n",
            "  import pandas.util.testing as tm\n"
          ],
          "name": "stderr"
        }
      ]
    },
    {
      "cell_type": "markdown",
      "metadata": {
        "id": "1e7dANUaT3Fl",
        "colab_type": "text"
      },
      "source": [
        "# **Carregamento dos Dados**"
      ]
    },
    {
      "cell_type": "code",
      "metadata": {
        "id": "HbKXiBQbjCNc",
        "colab_type": "code",
        "colab": {}
      },
      "source": [
        "#-- Begin data\n",
        "andress = '/content/train.csv'\n",
        "dtfinal = '/content/test.csv'\n",
        "\n",
        "df_test = pd.read_csv(dtfinal)\n",
        "df = pd.read_csv(andress)"
      ],
      "execution_count": 0,
      "outputs": []
    },
    {
      "cell_type": "markdown",
      "metadata": {
        "id": "OACMsq-vZXzB",
        "colab_type": "text"
      },
      "source": [
        "# **Análise exploratória dos Dados**"
      ]
    },
    {
      "cell_type": "code",
      "metadata": {
        "id": "sOVTtWaRXuiF",
        "colab_type": "code",
        "outputId": "1173e307-bb3f-4da7-f57d-98413631bb44",
        "colab": {
          "base_uri": "https://localhost:8080/",
          "height": 250
        }
      },
      "source": [
        "comps = ['NU_NOTA_MT', 'NU_NOTA_COMP1','NU_NOTA_COMP2', 'NU_NOTA_COMP3', 'NU_NOTA_COMP4', 'NU_NOTA_COMP5']\n",
        "df[comps].corr() #Com isso vemos que a competência de maior correlação é a competência 3."
      ],
      "execution_count": 4,
      "outputs": [
        {
          "output_type": "execute_result",
          "data": {
            "text/html": [
              "<div>\n",
              "<style scoped>\n",
              "    .dataframe tbody tr th:only-of-type {\n",
              "        vertical-align: middle;\n",
              "    }\n",
              "\n",
              "    .dataframe tbody tr th {\n",
              "        vertical-align: top;\n",
              "    }\n",
              "\n",
              "    .dataframe thead th {\n",
              "        text-align: right;\n",
              "    }\n",
              "</style>\n",
              "<table border=\"1\" class=\"dataframe\">\n",
              "  <thead>\n",
              "    <tr style=\"text-align: right;\">\n",
              "      <th></th>\n",
              "      <th>NU_NOTA_MT</th>\n",
              "      <th>NU_NOTA_COMP1</th>\n",
              "      <th>NU_NOTA_COMP2</th>\n",
              "      <th>NU_NOTA_COMP3</th>\n",
              "      <th>NU_NOTA_COMP4</th>\n",
              "      <th>NU_NOTA_COMP5</th>\n",
              "    </tr>\n",
              "  </thead>\n",
              "  <tbody>\n",
              "    <tr>\n",
              "      <th>NU_NOTA_MT</th>\n",
              "      <td>1.000000</td>\n",
              "      <td>0.299402</td>\n",
              "      <td>0.335638</td>\n",
              "      <td>0.350307</td>\n",
              "      <td>0.342282</td>\n",
              "      <td>0.343337</td>\n",
              "    </tr>\n",
              "    <tr>\n",
              "      <th>NU_NOTA_COMP1</th>\n",
              "      <td>0.299402</td>\n",
              "      <td>1.000000</td>\n",
              "      <td>0.756664</td>\n",
              "      <td>0.759452</td>\n",
              "      <td>0.824538</td>\n",
              "      <td>0.558587</td>\n",
              "    </tr>\n",
              "    <tr>\n",
              "      <th>NU_NOTA_COMP2</th>\n",
              "      <td>0.335638</td>\n",
              "      <td>0.756664</td>\n",
              "      <td>1.000000</td>\n",
              "      <td>0.875447</td>\n",
              "      <td>0.808006</td>\n",
              "      <td>0.655915</td>\n",
              "    </tr>\n",
              "    <tr>\n",
              "      <th>NU_NOTA_COMP3</th>\n",
              "      <td>0.350307</td>\n",
              "      <td>0.759452</td>\n",
              "      <td>0.875447</td>\n",
              "      <td>1.000000</td>\n",
              "      <td>0.827151</td>\n",
              "      <td>0.664350</td>\n",
              "    </tr>\n",
              "    <tr>\n",
              "      <th>NU_NOTA_COMP4</th>\n",
              "      <td>0.342282</td>\n",
              "      <td>0.824538</td>\n",
              "      <td>0.808006</td>\n",
              "      <td>0.827151</td>\n",
              "      <td>1.000000</td>\n",
              "      <td>0.635018</td>\n",
              "    </tr>\n",
              "    <tr>\n",
              "      <th>NU_NOTA_COMP5</th>\n",
              "      <td>0.343337</td>\n",
              "      <td>0.558587</td>\n",
              "      <td>0.655915</td>\n",
              "      <td>0.664350</td>\n",
              "      <td>0.635018</td>\n",
              "      <td>1.000000</td>\n",
              "    </tr>\n",
              "  </tbody>\n",
              "</table>\n",
              "</div>"
            ],
            "text/plain": [
              "               NU_NOTA_MT  NU_NOTA_COMP1  ...  NU_NOTA_COMP4  NU_NOTA_COMP5\n",
              "NU_NOTA_MT       1.000000       0.299402  ...       0.342282       0.343337\n",
              "NU_NOTA_COMP1    0.299402       1.000000  ...       0.824538       0.558587\n",
              "NU_NOTA_COMP2    0.335638       0.756664  ...       0.808006       0.655915\n",
              "NU_NOTA_COMP3    0.350307       0.759452  ...       0.827151       0.664350\n",
              "NU_NOTA_COMP4    0.342282       0.824538  ...       1.000000       0.635018\n",
              "NU_NOTA_COMP5    0.343337       0.558587  ...       0.635018       1.000000\n",
              "\n",
              "[6 rows x 6 columns]"
            ]
          },
          "metadata": {
            "tags": []
          },
          "execution_count": 4
        }
      ]
    },
    {
      "cell_type": "code",
      "metadata": {
        "id": "Le4-ZjiiXbqW",
        "colab_type": "code",
        "colab": {}
      },
      "source": [
        "atributos = {\n",
        "    'MATEMATICA': df['NU_NOTA_MT'],\n",
        "    'NATURAIS': df['NU_NOTA_CN'],\n",
        "    'LINGUAGENS': df['NU_NOTA_LC'],\n",
        "    'HUMANAS': df['NU_NOTA_CH'],\n",
        "    'REDACAO': df['NU_NOTA_REDACAO'],\n",
        "    'COMPET_3': df['NU_NOTA_COMP3']\n",
        "}"
      ],
      "execution_count": 0,
      "outputs": []
    },
    {
      "cell_type": "code",
      "metadata": {
        "id": "Mai4jdG-Yzv2",
        "colab_type": "code",
        "colab": {}
      },
      "source": [
        "data = pd.DataFrame(atributos)\n",
        "data = data.dropna(axis=0, how='any')"
      ],
      "execution_count": 0,
      "outputs": []
    },
    {
      "cell_type": "code",
      "metadata": {
        "id": "Et6QqiBuZTD1",
        "colab_type": "code",
        "colab": {}
      },
      "source": [
        "data.index = range(0, len(data.index))"
      ],
      "execution_count": 0,
      "outputs": []
    },
    {
      "cell_type": "code",
      "metadata": {
        "id": "T4Xe6zpMZtf-",
        "colab_type": "code",
        "colab": {}
      },
      "source": [
        "#-- Função média das notas\n",
        "data['MEDIA']= (data['MATEMATICA']*3+data['NATURAIS']*2+data['LINGUAGENS']*1.5+data['HUMANAS']*1+data['REDACAO']*3)/10.5"
      ],
      "execution_count": 0,
      "outputs": []
    },
    {
      "cell_type": "markdown",
      "metadata": {
        "id": "hcrLFiI4r0FH",
        "colab_type": "text"
      },
      "source": [
        "# **Aplicação do modelo de Regressão (Média)**\n"
      ]
    },
    {
      "cell_type": "code",
      "metadata": {
        "id": "ZkOW99qWz5p8",
        "colab_type": "code",
        "colab": {}
      },
      "source": [
        "y = data['MEDIA']\n",
        "X = data.drop(['MATEMATICA','MEDIA'], axis=1)"
      ],
      "execution_count": 0,
      "outputs": []
    },
    {
      "cell_type": "code",
      "metadata": {
        "id": "xExWjRCFes7a",
        "colab_type": "code",
        "colab": {}
      },
      "source": [
        "from sklearn.model_selection import train_test_split\n",
        "train_X, test_X, train_y, test_y = train_test_split(X, y, test_size=0.3, random_state=42)"
      ],
      "execution_count": 0,
      "outputs": []
    },
    {
      "cell_type": "code",
      "metadata": {
        "id": "DJOm8s6HUpIX",
        "colab_type": "code",
        "outputId": "975fb958-617d-490b-8793-9c41461aad8c",
        "colab": {
          "base_uri": "https://localhost:8080/",
          "height": 34
        }
      },
      "source": [
        "from sklearn.linear_model import LinearRegression\n",
        "from sklearn.metrics import mean_squared_error,mean_absolute_error\n",
        "\n",
        "RLM = LinearRegression()\n",
        "RLM.fit(train_X, train_y)\n",
        "predict1 = RLM.predict(test_X)\n",
        "print(RLM.score(train_X, train_y))"
      ],
      "execution_count": 11,
      "outputs": [
        {
          "output_type": "stream",
          "text": [
            "0.9260103363986306\n"
          ],
          "name": "stdout"
        }
      ]
    },
    {
      "cell_type": "code",
      "metadata": {
        "id": "ZzpknJivWpwN",
        "colab_type": "code",
        "outputId": "7d73c5af-f4c0-4359-cba7-ad7c3fe48f82",
        "colab": {
          "base_uri": "https://localhost:8080/",
          "height": 34
        }
      },
      "source": [
        "from sklearn.ensemble import RandomForestRegressor\n",
        "RFM = RandomForestRegressor(n_estimators = 20)\n",
        "RFM.fit(train_X, train_y)\n",
        "predict3 = RFM.predict(test_X)\n",
        "score = RFM.score(test_X, test_y)\n",
        "score"
      ],
      "execution_count": 0,
      "outputs": [
        {
          "output_type": "execute_result",
          "data": {
            "text/plain": [
              "0.9153401682411153"
            ]
          },
          "metadata": {
            "tags": []
          },
          "execution_count": 150
        }
      ]
    },
    {
      "cell_type": "markdown",
      "metadata": {
        "id": "Xh-0fjaer4Rg",
        "colab_type": "text"
      },
      "source": [
        "# **Aplicação do modelo de Regressão (Matemática)**\n"
      ]
    },
    {
      "cell_type": "code",
      "metadata": {
        "id": "3ekeU-xwlpXo",
        "colab_type": "code",
        "colab": {}
      },
      "source": [
        "y = data['MATEMATICA']\n",
        "X = data.drop('MATEMATICA', axis=1)"
      ],
      "execution_count": 0,
      "outputs": []
    },
    {
      "cell_type": "code",
      "metadata": {
        "id": "0yR1RGAflpc5",
        "colab_type": "code",
        "colab": {}
      },
      "source": [
        "from sklearn.model_selection import train_test_split\n",
        "train_X, test_X, train_y, test_y = train_test_split(X, y, test_size=0.3, random_state=42)"
      ],
      "execution_count": 0,
      "outputs": []
    },
    {
      "cell_type": "code",
      "metadata": {
        "id": "rgN3F8-jlpgX",
        "colab_type": "code",
        "outputId": "690c0514-326e-4817-afbd-e42c178f82de",
        "colab": {
          "base_uri": "https://localhost:8080/",
          "height": 34
        }
      },
      "source": [
        "from sklearn.linear_model import LinearRegression\n",
        "from sklearn.metrics import mean_squared_error,mean_absolute_error\n",
        "\n",
        "RL = LinearRegression()\n",
        "RL.fit(train_X, train_y)\n",
        "predict2 = RL.predict(test_X)\n",
        "\n",
        "RL_media = mean_absolute_error(test_y,predict2)\n",
        "print(RL_media, RL.score(train_X, train_y))"
      ],
      "execution_count": 14,
      "outputs": [
        {
          "output_type": "stream",
          "text": [
            "3.7844960022411883e-13 1.0\n"
          ],
          "name": "stdout"
        }
      ]
    },
    {
      "cell_type": "code",
      "metadata": {
        "id": "krnP1Ay_lpk2",
        "colab_type": "code",
        "outputId": "cc5e3828-c26e-4c68-efe7-79c2e6a74d60",
        "colab": {
          "base_uri": "https://localhost:8080/",
          "height": 34
        }
      },
      "source": [
        "from sklearn.ensemble import RandomForestRegressor\n",
        "RF = RandomForestRegressor(n_estimators = 20)\n",
        "RF.fit(train_X, train_y)\n",
        "predict4 = RF.predict(test_X)\n",
        "score = RF.score(test_X, test_y)\n",
        "score"
      ],
      "execution_count": 15,
      "outputs": [
        {
          "output_type": "execute_result",
          "data": {
            "text/plain": [
              "0.9556242923339696"
            ]
          },
          "metadata": {
            "tags": []
          },
          "execution_count": 15
        }
      ]
    },
    {
      "cell_type": "markdown",
      "metadata": {
        "id": "NKtQuVD-oG9V",
        "colab_type": "text"
      },
      "source": [
        "###ANALISANDO O CONJUNTO DE DADOS DE TESTE"
      ]
    },
    {
      "cell_type": "code",
      "metadata": {
        "id": "v5dn0LcroOLJ",
        "colab_type": "code",
        "outputId": "29f7a60a-be16-43c2-e3ec-fd576bf75144",
        "colab": {
          "base_uri": "https://localhost:8080/",
          "height": 410
        }
      },
      "source": [
        "atributos_teste = {\n",
        "    'NU_INSCRICAO': df_test['NU_INSCRICAO'],\n",
        "    'NATURAIS': df_test['NU_NOTA_CN'],\n",
        "    'LINGUAGENS': df_test['NU_NOTA_LC'],\n",
        "    'HUMANAS': df_test['NU_NOTA_CH'],\n",
        "    'REDACAO': df_test['NU_NOTA_REDACAO'],\n",
        "    'COMPET_3': df_test['NU_NOTA_COMP3']\n",
        "}\n",
        "\n",
        "data_teste = pd.DataFrame(atributos_teste)\n",
        "\n",
        "data_teste = data_teste.dropna(axis=0, how='any')\n",
        "data_teste"
      ],
      "execution_count": 16,
      "outputs": [
        {
          "output_type": "execute_result",
          "data": {
            "text/html": [
              "<div>\n",
              "<style scoped>\n",
              "    .dataframe tbody tr th:only-of-type {\n",
              "        vertical-align: middle;\n",
              "    }\n",
              "\n",
              "    .dataframe tbody tr th {\n",
              "        vertical-align: top;\n",
              "    }\n",
              "\n",
              "    .dataframe thead th {\n",
              "        text-align: right;\n",
              "    }\n",
              "</style>\n",
              "<table border=\"1\" class=\"dataframe\">\n",
              "  <thead>\n",
              "    <tr style=\"text-align: right;\">\n",
              "      <th></th>\n",
              "      <th>NU_INSCRICAO</th>\n",
              "      <th>NATURAIS</th>\n",
              "      <th>LINGUAGENS</th>\n",
              "      <th>HUMANAS</th>\n",
              "      <th>REDACAO</th>\n",
              "      <th>COMPET_3</th>\n",
              "    </tr>\n",
              "  </thead>\n",
              "  <tbody>\n",
              "    <tr>\n",
              "      <th>0</th>\n",
              "      <td>73ff9fcc02f0a99919906c942c2e1a1042cdcf98</td>\n",
              "      <td>464.8</td>\n",
              "      <td>431.8</td>\n",
              "      <td>443.5</td>\n",
              "      <td>420.0</td>\n",
              "      <td>80.0</td>\n",
              "    </tr>\n",
              "    <tr>\n",
              "      <th>1</th>\n",
              "      <td>71a95f9f1b91a82c65ad94abbdf9f54e6066f968</td>\n",
              "      <td>391.1</td>\n",
              "      <td>548.0</td>\n",
              "      <td>491.1</td>\n",
              "      <td>580.0</td>\n",
              "      <td>120.0</td>\n",
              "    </tr>\n",
              "    <tr>\n",
              "      <th>2</th>\n",
              "      <td>b38a03232f43b11c9d0788abaf060f7366053b6d</td>\n",
              "      <td>595.9</td>\n",
              "      <td>613.6</td>\n",
              "      <td>622.7</td>\n",
              "      <td>320.0</td>\n",
              "      <td>40.0</td>\n",
              "    </tr>\n",
              "    <tr>\n",
              "      <th>4</th>\n",
              "      <td>715494628a50142ce8cb17191cfe6d0f3cae0934</td>\n",
              "      <td>592.9</td>\n",
              "      <td>571.4</td>\n",
              "      <td>492.6</td>\n",
              "      <td>320.0</td>\n",
              "      <td>60.0</td>\n",
              "    </tr>\n",
              "    <tr>\n",
              "      <th>5</th>\n",
              "      <td>e656d6bad65c93fb2880f1eba5037008c8e75774</td>\n",
              "      <td>414.5</td>\n",
              "      <td>542.5</td>\n",
              "      <td>568.5</td>\n",
              "      <td>560.0</td>\n",
              "      <td>120.0</td>\n",
              "    </tr>\n",
              "    <tr>\n",
              "      <th>...</th>\n",
              "      <td>...</td>\n",
              "      <td>...</td>\n",
              "      <td>...</td>\n",
              "      <td>...</td>\n",
              "      <td>...</td>\n",
              "      <td>...</td>\n",
              "    </tr>\n",
              "    <tr>\n",
              "      <th>4570</th>\n",
              "      <td>13aaf6335f43cfc1b8baeac559324f20b2653724</td>\n",
              "      <td>465.9</td>\n",
              "      <td>603.9</td>\n",
              "      <td>602.3</td>\n",
              "      <td>540.0</td>\n",
              "      <td>100.0</td>\n",
              "    </tr>\n",
              "    <tr>\n",
              "      <th>4571</th>\n",
              "      <td>dac0f22429c7f8e3931d0abaf5dfc8e5c772a48b</td>\n",
              "      <td>398.3</td>\n",
              "      <td>511.6</td>\n",
              "      <td>558.2</td>\n",
              "      <td>500.0</td>\n",
              "      <td>120.0</td>\n",
              "    </tr>\n",
              "    <tr>\n",
              "      <th>4572</th>\n",
              "      <td>a75fa8770257e7c9368d059fe53d9ef431f4bdef</td>\n",
              "      <td>427.6</td>\n",
              "      <td>471.1</td>\n",
              "      <td>579.7</td>\n",
              "      <td>520.0</td>\n",
              "      <td>100.0</td>\n",
              "    </tr>\n",
              "    <tr>\n",
              "      <th>4573</th>\n",
              "      <td>655fa6306720ff16e825903b5422a46608a77545</td>\n",
              "      <td>639.2</td>\n",
              "      <td>604.9</td>\n",
              "      <td>643.8</td>\n",
              "      <td>640.0</td>\n",
              "      <td>120.0</td>\n",
              "    </tr>\n",
              "    <tr>\n",
              "      <th>4574</th>\n",
              "      <td>1f4bc3e3d56212d500625bfe8ac78ccff4362293</td>\n",
              "      <td>427.1</td>\n",
              "      <td>540.2</td>\n",
              "      <td>467.9</td>\n",
              "      <td>520.0</td>\n",
              "      <td>80.0</td>\n",
              "    </tr>\n",
              "  </tbody>\n",
              "</table>\n",
              "<p>3360 rows × 6 columns</p>\n",
              "</div>"
            ],
            "text/plain": [
              "                                  NU_INSCRICAO  NATURAIS  ...  REDACAO  COMPET_3\n",
              "0     73ff9fcc02f0a99919906c942c2e1a1042cdcf98     464.8  ...    420.0      80.0\n",
              "1     71a95f9f1b91a82c65ad94abbdf9f54e6066f968     391.1  ...    580.0     120.0\n",
              "2     b38a03232f43b11c9d0788abaf060f7366053b6d     595.9  ...    320.0      40.0\n",
              "4     715494628a50142ce8cb17191cfe6d0f3cae0934     592.9  ...    320.0      60.0\n",
              "5     e656d6bad65c93fb2880f1eba5037008c8e75774     414.5  ...    560.0     120.0\n",
              "...                                        ...       ...  ...      ...       ...\n",
              "4570  13aaf6335f43cfc1b8baeac559324f20b2653724     465.9  ...    540.0     100.0\n",
              "4571  dac0f22429c7f8e3931d0abaf5dfc8e5c772a48b     398.3  ...    500.0     120.0\n",
              "4572  a75fa8770257e7c9368d059fe53d9ef431f4bdef     427.6  ...    520.0     100.0\n",
              "4573  655fa6306720ff16e825903b5422a46608a77545     639.2  ...    640.0     120.0\n",
              "4574  1f4bc3e3d56212d500625bfe8ac78ccff4362293     427.1  ...    520.0      80.0\n",
              "\n",
              "[3360 rows x 6 columns]"
            ]
          },
          "metadata": {
            "tags": []
          },
          "execution_count": 16
        }
      ]
    },
    {
      "cell_type": "code",
      "metadata": {
        "id": "w3vha0hxtIXS",
        "colab_type": "code",
        "colab": {}
      },
      "source": [
        "data_teste.index = range(0, len(data_teste.index))"
      ],
      "execution_count": 0,
      "outputs": []
    },
    {
      "cell_type": "code",
      "metadata": {
        "id": "GmjHUYAetW_X",
        "colab_type": "code",
        "outputId": "9981cb1e-e4eb-43bf-ec7b-3e618616db15",
        "colab": {
          "base_uri": "https://localhost:8080/",
          "height": 219
        }
      },
      "source": [
        "data_teste['MEDIA']= RLM.predict(data_teste.iloc[:, 1:])\n",
        "data_teste.head(5)"
      ],
      "execution_count": 18,
      "outputs": [
        {
          "output_type": "execute_result",
          "data": {
            "text/html": [
              "<div>\n",
              "<style scoped>\n",
              "    .dataframe tbody tr th:only-of-type {\n",
              "        vertical-align: middle;\n",
              "    }\n",
              "\n",
              "    .dataframe tbody tr th {\n",
              "        vertical-align: top;\n",
              "    }\n",
              "\n",
              "    .dataframe thead th {\n",
              "        text-align: right;\n",
              "    }\n",
              "</style>\n",
              "<table border=\"1\" class=\"dataframe\">\n",
              "  <thead>\n",
              "    <tr style=\"text-align: right;\">\n",
              "      <th></th>\n",
              "      <th>NU_INSCRICAO</th>\n",
              "      <th>NATURAIS</th>\n",
              "      <th>LINGUAGENS</th>\n",
              "      <th>HUMANAS</th>\n",
              "      <th>REDACAO</th>\n",
              "      <th>COMPET_3</th>\n",
              "      <th>MEDIA</th>\n",
              "    </tr>\n",
              "  </thead>\n",
              "  <tbody>\n",
              "    <tr>\n",
              "      <th>0</th>\n",
              "      <td>73ff9fcc02f0a99919906c942c2e1a1042cdcf98</td>\n",
              "      <td>464.8</td>\n",
              "      <td>431.8</td>\n",
              "      <td>443.5</td>\n",
              "      <td>420.0</td>\n",
              "      <td>80.0</td>\n",
              "      <td>437.157849</td>\n",
              "    </tr>\n",
              "    <tr>\n",
              "      <th>1</th>\n",
              "      <td>71a95f9f1b91a82c65ad94abbdf9f54e6066f968</td>\n",
              "      <td>391.1</td>\n",
              "      <td>548.0</td>\n",
              "      <td>491.1</td>\n",
              "      <td>580.0</td>\n",
              "      <td>120.0</td>\n",
              "      <td>489.813814</td>\n",
              "    </tr>\n",
              "    <tr>\n",
              "      <th>2</th>\n",
              "      <td>b38a03232f43b11c9d0788abaf060f7366053b6d</td>\n",
              "      <td>595.9</td>\n",
              "      <td>613.6</td>\n",
              "      <td>622.7</td>\n",
              "      <td>320.0</td>\n",
              "      <td>40.0</td>\n",
              "      <td>519.778267</td>\n",
              "    </tr>\n",
              "    <tr>\n",
              "      <th>3</th>\n",
              "      <td>715494628a50142ce8cb17191cfe6d0f3cae0934</td>\n",
              "      <td>592.9</td>\n",
              "      <td>571.4</td>\n",
              "      <td>492.6</td>\n",
              "      <td>320.0</td>\n",
              "      <td>60.0</td>\n",
              "      <td>488.465919</td>\n",
              "    </tr>\n",
              "    <tr>\n",
              "      <th>4</th>\n",
              "      <td>e656d6bad65c93fb2880f1eba5037008c8e75774</td>\n",
              "      <td>414.5</td>\n",
              "      <td>542.5</td>\n",
              "      <td>568.5</td>\n",
              "      <td>560.0</td>\n",
              "      <td>120.0</td>\n",
              "      <td>503.416509</td>\n",
              "    </tr>\n",
              "  </tbody>\n",
              "</table>\n",
              "</div>"
            ],
            "text/plain": [
              "                               NU_INSCRICAO  NATURAIS  ...  COMPET_3       MEDIA\n",
              "0  73ff9fcc02f0a99919906c942c2e1a1042cdcf98     464.8  ...      80.0  437.157849\n",
              "1  71a95f9f1b91a82c65ad94abbdf9f54e6066f968     391.1  ...     120.0  489.813814\n",
              "2  b38a03232f43b11c9d0788abaf060f7366053b6d     595.9  ...      40.0  519.778267\n",
              "3  715494628a50142ce8cb17191cfe6d0f3cae0934     592.9  ...      60.0  488.465919\n",
              "4  e656d6bad65c93fb2880f1eba5037008c8e75774     414.5  ...     120.0  503.416509\n",
              "\n",
              "[5 rows x 7 columns]"
            ]
          },
          "metadata": {
            "tags": []
          },
          "execution_count": 18
        }
      ]
    },
    {
      "cell_type": "code",
      "metadata": {
        "id": "1ceJzyI2vEGl",
        "colab_type": "code",
        "outputId": "e3a67a33-7924-499c-cedf-fdd9e1cf461f",
        "colab": {
          "base_uri": "https://localhost:8080/",
          "height": 219
        }
      },
      "source": [
        "data_teste['NU_NOTA_MT']= RF.predict(data_teste.iloc[:, 1:])\n",
        "data_teste.head(5)"
      ],
      "execution_count": 19,
      "outputs": [
        {
          "output_type": "execute_result",
          "data": {
            "text/html": [
              "<div>\n",
              "<style scoped>\n",
              "    .dataframe tbody tr th:only-of-type {\n",
              "        vertical-align: middle;\n",
              "    }\n",
              "\n",
              "    .dataframe tbody tr th {\n",
              "        vertical-align: top;\n",
              "    }\n",
              "\n",
              "    .dataframe thead th {\n",
              "        text-align: right;\n",
              "    }\n",
              "</style>\n",
              "<table border=\"1\" class=\"dataframe\">\n",
              "  <thead>\n",
              "    <tr style=\"text-align: right;\">\n",
              "      <th></th>\n",
              "      <th>NU_INSCRICAO</th>\n",
              "      <th>NATURAIS</th>\n",
              "      <th>LINGUAGENS</th>\n",
              "      <th>HUMANAS</th>\n",
              "      <th>REDACAO</th>\n",
              "      <th>COMPET_3</th>\n",
              "      <th>MEDIA</th>\n",
              "      <th>NU_NOTA_MT</th>\n",
              "    </tr>\n",
              "  </thead>\n",
              "  <tbody>\n",
              "    <tr>\n",
              "      <th>0</th>\n",
              "      <td>73ff9fcc02f0a99919906c942c2e1a1042cdcf98</td>\n",
              "      <td>464.8</td>\n",
              "      <td>431.8</td>\n",
              "      <td>443.5</td>\n",
              "      <td>420.0</td>\n",
              "      <td>80.0</td>\n",
              "      <td>437.157849</td>\n",
              "      <td>424.430</td>\n",
              "    </tr>\n",
              "    <tr>\n",
              "      <th>1</th>\n",
              "      <td>71a95f9f1b91a82c65ad94abbdf9f54e6066f968</td>\n",
              "      <td>391.1</td>\n",
              "      <td>548.0</td>\n",
              "      <td>491.1</td>\n",
              "      <td>580.0</td>\n",
              "      <td>120.0</td>\n",
              "      <td>489.813814</td>\n",
              "      <td>428.960</td>\n",
              "    </tr>\n",
              "    <tr>\n",
              "      <th>2</th>\n",
              "      <td>b38a03232f43b11c9d0788abaf060f7366053b6d</td>\n",
              "      <td>595.9</td>\n",
              "      <td>613.6</td>\n",
              "      <td>622.7</td>\n",
              "      <td>320.0</td>\n",
              "      <td>40.0</td>\n",
              "      <td>519.778267</td>\n",
              "      <td>608.880</td>\n",
              "    </tr>\n",
              "    <tr>\n",
              "      <th>3</th>\n",
              "      <td>715494628a50142ce8cb17191cfe6d0f3cae0934</td>\n",
              "      <td>592.9</td>\n",
              "      <td>571.4</td>\n",
              "      <td>492.6</td>\n",
              "      <td>320.0</td>\n",
              "      <td>60.0</td>\n",
              "      <td>488.465919</td>\n",
              "      <td>536.460</td>\n",
              "    </tr>\n",
              "    <tr>\n",
              "      <th>4</th>\n",
              "      <td>e656d6bad65c93fb2880f1eba5037008c8e75774</td>\n",
              "      <td>414.5</td>\n",
              "      <td>542.5</td>\n",
              "      <td>568.5</td>\n",
              "      <td>560.0</td>\n",
              "      <td>120.0</td>\n",
              "      <td>503.416509</td>\n",
              "      <td>464.255</td>\n",
              "    </tr>\n",
              "  </tbody>\n",
              "</table>\n",
              "</div>"
            ],
            "text/plain": [
              "                               NU_INSCRICAO  NATURAIS  ...       MEDIA  NU_NOTA_MT\n",
              "0  73ff9fcc02f0a99919906c942c2e1a1042cdcf98     464.8  ...  437.157849     424.430\n",
              "1  71a95f9f1b91a82c65ad94abbdf9f54e6066f968     391.1  ...  489.813814     428.960\n",
              "2  b38a03232f43b11c9d0788abaf060f7366053b6d     595.9  ...  519.778267     608.880\n",
              "3  715494628a50142ce8cb17191cfe6d0f3cae0934     592.9  ...  488.465919     536.460\n",
              "4  e656d6bad65c93fb2880f1eba5037008c8e75774     414.5  ...  503.416509     464.255\n",
              "\n",
              "[5 rows x 8 columns]"
            ]
          },
          "metadata": {
            "tags": []
          },
          "execution_count": 19
        }
      ]
    },
    {
      "cell_type": "code",
      "metadata": {
        "id": "QcGFPBWKvnKj",
        "colab_type": "code",
        "colab": {}
      },
      "source": [
        "data_teste = data_teste.drop(['NATURAIS','LINGUAGENS','HUMANAS','REDACAO','COMPET_3', 'MEDIA'],axis=1)\n"
      ],
      "execution_count": 0,
      "outputs": []
    },
    {
      "cell_type": "code",
      "metadata": {
        "id": "mU6VinMmvyMA",
        "colab_type": "code",
        "colab": {}
      },
      "source": [
        "data_teste.to_csv('answer.csv', index=False)"
      ],
      "execution_count": 0,
      "outputs": []
    },
    {
      "cell_type": "code",
      "metadata": {
        "id": "Tk-pT06OwLyq",
        "colab_type": "code",
        "outputId": "6dd76fbb-3a79-47e3-accf-3e302f226728",
        "colab": {
          "base_uri": "https://localhost:8080/",
          "height": 199
        }
      },
      "source": [
        "final = pd.read_csv('answer.csv')\n",
        "final.head()"
      ],
      "execution_count": 22,
      "outputs": [
        {
          "output_type": "execute_result",
          "data": {
            "text/html": [
              "<div>\n",
              "<style scoped>\n",
              "    .dataframe tbody tr th:only-of-type {\n",
              "        vertical-align: middle;\n",
              "    }\n",
              "\n",
              "    .dataframe tbody tr th {\n",
              "        vertical-align: top;\n",
              "    }\n",
              "\n",
              "    .dataframe thead th {\n",
              "        text-align: right;\n",
              "    }\n",
              "</style>\n",
              "<table border=\"1\" class=\"dataframe\">\n",
              "  <thead>\n",
              "    <tr style=\"text-align: right;\">\n",
              "      <th></th>\n",
              "      <th>NU_INSCRICAO</th>\n",
              "      <th>NU_NOTA_MT</th>\n",
              "    </tr>\n",
              "  </thead>\n",
              "  <tbody>\n",
              "    <tr>\n",
              "      <th>0</th>\n",
              "      <td>73ff9fcc02f0a99919906c942c2e1a1042cdcf98</td>\n",
              "      <td>424.430</td>\n",
              "    </tr>\n",
              "    <tr>\n",
              "      <th>1</th>\n",
              "      <td>71a95f9f1b91a82c65ad94abbdf9f54e6066f968</td>\n",
              "      <td>428.960</td>\n",
              "    </tr>\n",
              "    <tr>\n",
              "      <th>2</th>\n",
              "      <td>b38a03232f43b11c9d0788abaf060f7366053b6d</td>\n",
              "      <td>608.880</td>\n",
              "    </tr>\n",
              "    <tr>\n",
              "      <th>3</th>\n",
              "      <td>715494628a50142ce8cb17191cfe6d0f3cae0934</td>\n",
              "      <td>536.460</td>\n",
              "    </tr>\n",
              "    <tr>\n",
              "      <th>4</th>\n",
              "      <td>e656d6bad65c93fb2880f1eba5037008c8e75774</td>\n",
              "      <td>464.255</td>\n",
              "    </tr>\n",
              "  </tbody>\n",
              "</table>\n",
              "</div>"
            ],
            "text/plain": [
              "                               NU_INSCRICAO  NU_NOTA_MT\n",
              "0  73ff9fcc02f0a99919906c942c2e1a1042cdcf98     424.430\n",
              "1  71a95f9f1b91a82c65ad94abbdf9f54e6066f968     428.960\n",
              "2  b38a03232f43b11c9d0788abaf060f7366053b6d     608.880\n",
              "3  715494628a50142ce8cb17191cfe6d0f3cae0934     536.460\n",
              "4  e656d6bad65c93fb2880f1eba5037008c8e75774     464.255"
            ]
          },
          "metadata": {
            "tags": []
          },
          "execution_count": 22
        }
      ]
    },
    {
      "cell_type": "code",
      "metadata": {
        "id": "wZOpRG_vT_ao",
        "colab_type": "code",
        "colab": {}
      },
      "source": [
        ""
      ],
      "execution_count": 0,
      "outputs": []
    }
  ]
}